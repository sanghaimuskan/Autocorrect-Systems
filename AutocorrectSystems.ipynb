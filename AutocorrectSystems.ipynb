{
  "nbformat": 4,
  "nbformat_minor": 0,
  "metadata": {
    "colab": {
      "name": "AutocorrectSystems.ipynb",
      "provenance": [],
      "toc_visible": true,
      "mount_file_id": "11_AaGIcVb7PyRsC68a9AxIGb7M0AlZ5H",
      "authorship_tag": "ABX9TyMeu4Rrnzc/5RfdFwuBsJji",
      "include_colab_link": true
    },
    "kernelspec": {
      "name": "python3",
      "display_name": "Python 3"
    }
  },
  "cells": [
    {
      "cell_type": "markdown",
      "metadata": {
        "id": "view-in-github",
        "colab_type": "text"
      },
      "source": [
        "<a href=\"https://colab.research.google.com/github/sanghaimuskan/Autocorrect-Systems/blob/master/AutocorrectSystems.ipynb\" target=\"_parent\"><img src=\"https://colab.research.google.com/assets/colab-badge.svg\" alt=\"Open In Colab\"/></a>"
      ]
    },
    {
      "cell_type": "markdown",
      "metadata": {
        "id": "OFZBA7A4P0uI",
        "colab_type": "text"
      },
      "source": [
        "# **Part 1: Data Preprocessing**\n",
        "\n",
        "# **Step 1: Opening file and extracting words and converting to lowercase**\n",
        "\n",
        "\n"
      ]
    },
    {
      "cell_type": "code",
      "metadata": {
        "id": "IRAHVgDFQXUc",
        "colab_type": "code",
        "colab": {}
      },
      "source": [
        "import re\n",
        "import pandas as pd\n",
        "import numpy as np\n",
        "from collections import Counter"
      ],
      "execution_count": 98,
      "outputs": []
    },
    {
      "cell_type": "code",
      "metadata": {
        "id": "gXlOSD6MQhpG",
        "colab_type": "code",
        "colab": {}
      },
      "source": [
        "def process_data(file):\n",
        "  words =[]\n",
        "\n",
        "  with open(file) as f:\n",
        "    file_data = f.read()\n",
        "  \n",
        "  file_data = file_data.lower()\n",
        "  words = re.findall('\\w+', file_data)\n",
        "\n",
        "  return words"
      ],
      "execution_count": 99,
      "outputs": []
    },
    {
      "cell_type": "code",
      "metadata": {
        "id": "zYkB-839SK4t",
        "colab_type": "code",
        "colab": {}
      },
      "source": [
        "!pip install -U -q PyDrive"
      ],
      "execution_count": 100,
      "outputs": []
    },
    {
      "cell_type": "code",
      "metadata": {
        "id": "2hSG-TgAVT-N",
        "colab_type": "code",
        "colab": {}
      },
      "source": [
        "from pydrive.auth import GoogleAuth\n",
        "from pydrive.drive import GoogleDrive\n",
        "from google.colab import auth\n",
        "from oauth2client.client import GoogleCredentials\n",
        "# Authenticate and create the PyDrive client.\n",
        "auth.authenticate_user()\n",
        "gauth = GoogleAuth()\n",
        "gauth.credentials = GoogleCredentials.get_application_default()\n",
        "drive = GoogleDrive(gauth)"
      ],
      "execution_count": 101,
      "outputs": []
    },
    {
      "cell_type": "code",
      "metadata": {
        "id": "RcktwQg9VYcv",
        "colab_type": "code",
        "colab": {}
      },
      "source": [
        "link = 'https://drive.google.com/file/d/1Q07I_80HJ95Y7jTNsKXiu30VjfUpXOFM/view?usp=sharing'"
      ],
      "execution_count": 102,
      "outputs": []
    },
    {
      "cell_type": "code",
      "metadata": {
        "id": "-36sdHg0rTR0",
        "colab_type": "code",
        "colab": {
          "base_uri": "https://localhost:8080/",
          "height": 34
        },
        "outputId": "e835d22e-7dec-4ced-c61f-6a425323a5fa"
      },
      "source": [
        "fluff, id = link.split('=')\n",
        "print (id) # Verify that you have everything after '='"
      ],
      "execution_count": 103,
      "outputs": [
        {
          "output_type": "stream",
          "text": [
            "sharing\n"
          ],
          "name": "stdout"
        }
      ]
    },
    {
      "cell_type": "code",
      "metadata": {
        "id": "aDyAQ7-NrmLV",
        "colab_type": "code",
        "colab": {}
      },
      "source": [
        "word_l = process_data('/content/drive/My Drive/Colab Notebooks/corpus.txt') \n",
        "vocab = set(word_l)  # this will be your new vocabulary"
      ],
      "execution_count": 104,
      "outputs": []
    },
    {
      "cell_type": "code",
      "metadata": {
        "id": "KH2bJR82s-pG",
        "colab_type": "code",
        "colab": {
          "base_uri": "https://localhost:8080/",
          "height": 52
        },
        "outputId": "ceafa816-6a9c-4bce-f51b-c959e0d0a019"
      },
      "source": [
        "print(f\"The first ten words in the text are: \\n{word_l[0:10]}\")"
      ],
      "execution_count": 105,
      "outputs": [
        {
          "output_type": "stream",
          "text": [
            "The first ten words in the text are: \n",
            "['o', 'for', 'a', 'muse', 'of', 'fire', 'that', 'would', 'ascend', 'the']\n"
          ],
          "name": "stdout"
        }
      ]
    },
    {
      "cell_type": "markdown",
      "metadata": {
        "id": "W6zS-EtBydIw",
        "colab_type": "text"
      },
      "source": [
        "# **Step2: Getting the Word Count**"
      ]
    },
    {
      "cell_type": "code",
      "metadata": {
        "id": "OR94F4d4wLoG",
        "colab_type": "code",
        "colab": {}
      },
      "source": [
        "def word_count(word_l):\n",
        "  wordcount = {}\n",
        "\n",
        "  for i in word_l:\n",
        "    wordcount = Counter(word_l)\n",
        "  return wordcount"
      ],
      "execution_count": 106,
      "outputs": []
    },
    {
      "cell_type": "code",
      "metadata": {
        "id": "nCAp3ze5wwBr",
        "colab_type": "code",
        "colab": {
          "base_uri": "https://localhost:8080/",
          "height": 34
        },
        "outputId": "5a444d0e-2f73-4568-ff6e-221cdc881135"
      },
      "source": [
        "word_count_dict = word_count(word_l)\n",
        "\n",
        "print(f\"The count for the word 'playing' is {word_count_dict.get('playing',0)}\")"
      ],
      "execution_count": 107,
      "outputs": [
        {
          "output_type": "stream",
          "text": [
            "The count for the word 'playing' is 1\n"
          ],
          "name": "stdout"
        }
      ]
    },
    {
      "cell_type": "markdown",
      "metadata": {
        "id": "X0fQlJfwyoXA",
        "colab_type": "text"
      },
      "source": [
        "# **Step3: Getting Probabilities of each word**"
      ]
    },
    {
      "cell_type": "code",
      "metadata": {
        "id": "DUNvLCAyxCFM",
        "colab_type": "code",
        "colab": {}
      },
      "source": [
        "def get_probs(word_count_dict):\n",
        "\n",
        "  total = sum(word_count_dict.values())\n",
        "\n",
        "  probs = {}\n",
        "  for key in word_count_dict.keys():\n",
        "    probs[key] = word_count_dict[key]/total\n",
        "  \n",
        "  return probs"
      ],
      "execution_count": 108,
      "outputs": []
    },
    {
      "cell_type": "code",
      "metadata": {
        "id": "ZtjbiZ5f03X1",
        "colab_type": "code",
        "colab": {
          "base_uri": "https://localhost:8080/",
          "height": 34
        },
        "outputId": "18d67b9b-a690-4196-eeb4-caf04031cb12"
      },
      "source": [
        "probs = get_probs(word_count_dict)\n",
        "print(f\"P('am') is {probs['am']:.4f}\")"
      ],
      "execution_count": 109,
      "outputs": [
        {
          "output_type": "stream",
          "text": [
            "P('am') is 0.0023\n"
          ],
          "name": "stdout"
        }
      ]
    },
    {
      "cell_type": "markdown",
      "metadata": {
        "id": "h-TTqV5C2Cyf",
        "colab_type": "text"
      },
      "source": [
        "# **Part2: String Manipulation**\n",
        "\n",
        "# **Step1: Deleting a letter to make the word correct**"
      ]
    },
    {
      "cell_type": "code",
      "metadata": {
        "id": "JYQ5vZzy05Pm",
        "colab_type": "code",
        "colab": {}
      },
      "source": [
        "def delete_letter(word):\n",
        "\n",
        "  split =[]\n",
        "  del_word = []\n",
        "\n",
        "  for c in range(len(word)):\n",
        "    split.append((word[:c], word[c:]))\n",
        "  \n",
        "  for a ,b in split:\n",
        "    del_word.append(a[:]+b[1:])\n",
        "\n",
        "  return del_word"
      ],
      "execution_count": 110,
      "outputs": []
    },
    {
      "cell_type": "code",
      "metadata": {
        "id": "GHcECYJx-fZM",
        "colab_type": "code",
        "colab": {
          "base_uri": "https://localhost:8080/",
          "height": 34
        },
        "outputId": "2c3ab552-ca62-40e0-be87-7ea505a1e5ad"
      },
      "source": [
        "word = 'Susn'\n",
        "\n",
        "delete_letter(word)"
      ],
      "execution_count": 111,
      "outputs": [
        {
          "output_type": "execute_result",
          "data": {
            "text/plain": [
              "['usn', 'Ssn', 'Sun', 'Sus']"
            ]
          },
          "metadata": {
            "tags": []
          },
          "execution_count": 111
        }
      ]
    },
    {
      "cell_type": "markdown",
      "metadata": {
        "id": "MFOU-EDZATFk",
        "colab_type": "text"
      },
      "source": [
        "# **Step 2: Switching between letters in a word**"
      ]
    },
    {
      "cell_type": "code",
      "metadata": {
        "id": "Xps1Rc_0_OY1",
        "colab_type": "code",
        "colab": {}
      },
      "source": [
        "def switch(word):\n",
        "  split =[]\n",
        "  switch = []\n",
        "\n",
        "  for c in range(len(word)):\n",
        "    split.append((word[:c], word[c:]))\n",
        "  \n",
        "  for a,b in split:\n",
        "    if(len(b)>2):\n",
        "      switch.append(a+b[1]+b[0]+b[2:])\n",
        "  \n",
        "  return switch"
      ],
      "execution_count": 112,
      "outputs": []
    },
    {
      "cell_type": "code",
      "metadata": {
        "id": "gm7brtalBZKw",
        "colab_type": "code",
        "colab": {
          "base_uri": "https://localhost:8080/",
          "height": 34
        },
        "outputId": "f5da3627-75e9-4e83-b5c1-8a7bd7335a9e"
      },
      "source": [
        "switch(\"maen\")"
      ],
      "execution_count": 113,
      "outputs": [
        {
          "output_type": "execute_result",
          "data": {
            "text/plain": [
              "['amen', 'mean']"
            ]
          },
          "metadata": {
            "tags": []
          },
          "execution_count": 113
        }
      ]
    },
    {
      "cell_type": "markdown",
      "metadata": {
        "id": "F7dzYkd5VU41",
        "colab_type": "text"
      },
      "source": [
        "# **Step3: Replacing letter**"
      ]
    },
    {
      "cell_type": "code",
      "metadata": {
        "id": "h1D6DzM1VP4v",
        "colab_type": "code",
        "colab": {}
      },
      "source": [
        "def replace_letter(word):\n",
        "    \n",
        "    letters = 'abcdefghijklmnopqrstuvwxyz'\n",
        "    replace_l = []\n",
        "    split_l = []\n",
        "    \n",
        "   \n",
        "    for c in range(len(word)):\n",
        "        split_l.append((word[0:c],word[c:]))\n",
        "    replace_l = [a + l + (b[1:] if len(b)> 1 else '') for a,b in split_l if b for l in letters]\n",
        "    replace_set=set(replace_l)      \n",
        "    \n",
        "    # turn the set back into a list and sort it, for easier viewing\n",
        "    replace_l = sorted(list(replace_set)) \n",
        "    replace_l = set(replace_l)   \n",
        "    \n",
        "    return replace_l"
      ],
      "execution_count": 115,
      "outputs": []
    },
    {
      "cell_type": "code",
      "metadata": {
        "id": "9cKtbh-FVv27",
        "colab_type": "code",
        "colab": {
          "base_uri": "https://localhost:8080/",
          "height": 1000
        },
        "outputId": "49024280-6d8b-42e4-c519-8b5b617dedf1"
      },
      "source": [
        "replace_letter('msn')"
      ],
      "execution_count": 116,
      "outputs": [
        {
          "output_type": "execute_result",
          "data": {
            "text/plain": [
              "{'asn',\n",
              " 'bsn',\n",
              " 'csn',\n",
              " 'dsn',\n",
              " 'esn',\n",
              " 'fsn',\n",
              " 'gsn',\n",
              " 'hsn',\n",
              " 'isn',\n",
              " 'jsn',\n",
              " 'ksn',\n",
              " 'lsn',\n",
              " 'man',\n",
              " 'mbn',\n",
              " 'mcn',\n",
              " 'mdn',\n",
              " 'men',\n",
              " 'mfn',\n",
              " 'mgn',\n",
              " 'mhn',\n",
              " 'min',\n",
              " 'mjn',\n",
              " 'mkn',\n",
              " 'mln',\n",
              " 'mmn',\n",
              " 'mnn',\n",
              " 'mon',\n",
              " 'mpn',\n",
              " 'mqn',\n",
              " 'mrn',\n",
              " 'msa',\n",
              " 'msb',\n",
              " 'msc',\n",
              " 'msd',\n",
              " 'mse',\n",
              " 'msf',\n",
              " 'msg',\n",
              " 'msh',\n",
              " 'msi',\n",
              " 'msj',\n",
              " 'msk',\n",
              " 'msl',\n",
              " 'msm',\n",
              " 'msn',\n",
              " 'mso',\n",
              " 'msp',\n",
              " 'msq',\n",
              " 'msr',\n",
              " 'mss',\n",
              " 'mst',\n",
              " 'msu',\n",
              " 'msv',\n",
              " 'msw',\n",
              " 'msx',\n",
              " 'msy',\n",
              " 'msz',\n",
              " 'mtn',\n",
              " 'mun',\n",
              " 'mvn',\n",
              " 'mwn',\n",
              " 'mxn',\n",
              " 'myn',\n",
              " 'mzn',\n",
              " 'nsn',\n",
              " 'osn',\n",
              " 'psn',\n",
              " 'qsn',\n",
              " 'rsn',\n",
              " 'ssn',\n",
              " 'tsn',\n",
              " 'usn',\n",
              " 'vsn',\n",
              " 'wsn',\n",
              " 'xsn',\n",
              " 'ysn',\n",
              " 'zsn'}"
            ]
          },
          "metadata": {
            "tags": []
          },
          "execution_count": 116
        }
      ]
    },
    {
      "cell_type": "markdown",
      "metadata": {
        "id": "9I9Azg2gWbPj",
        "colab_type": "text"
      },
      "source": [
        "# **Step4:Insert Letter**"
      ]
    },
    {
      "cell_type": "code",
      "metadata": {
        "id": "0ogsMaPzV3_l",
        "colab_type": "code",
        "colab": {}
      },
      "source": [
        "def insert_letter(word):\n",
        "    \n",
        "    letters = 'abcdefghijklmnopqrstuvwxyz'\n",
        "    insert_l = []\n",
        "    split_l = []\n",
        "    \n",
        "    for c in range(len(word)+1):\n",
        "        split_l.append((word[0:c],word[c:]))\n",
        "    insert_l = [ a + l + b for a,b in split_l for l in letters]\n",
        "     \n",
        "    return insert_l"
      ],
      "execution_count": 117,
      "outputs": []
    },
    {
      "cell_type": "code",
      "metadata": {
        "id": "ERjpwRNDWSNe",
        "colab_type": "code",
        "colab": {}
      },
      "source": [
        "insert_l = insert_letter('at')"
      ],
      "execution_count": 118,
      "outputs": []
    },
    {
      "cell_type": "markdown",
      "metadata": {
        "id": "9h3_3HaJWlOM",
        "colab_type": "text"
      },
      "source": [
        "# **Part 3: Combining the edits**\n",
        "\n",
        "# Step 1: 1 letter edit"
      ]
    },
    {
      "cell_type": "code",
      "metadata": {
        "id": "2_H8-1V2WWcw",
        "colab_type": "code",
        "colab": {}
      },
      "source": [
        "def edit_one_letter(word):\n",
        "    \n",
        "    edit_one_set = set()\n",
        "    \n",
        "    edit_one_set.update(delete_letter(word))\n",
        "    edit_one_set.update(switch(word))\n",
        "    edit_one_set.update(replace_letter(word))\n",
        "    edit_one_set.update(insert_letter(word))\n",
        "\n",
        "    return edit_one_set"
      ],
      "execution_count": 121,
      "outputs": []
    },
    {
      "cell_type": "code",
      "metadata": {
        "id": "qCdRFxSvXEPX",
        "colab_type": "code",
        "colab": {
          "base_uri": "https://localhost:8080/",
          "height": 1000
        },
        "outputId": "32e1faae-c8d2-47c0-de97-a7480c805021"
      },
      "source": [
        "edit_one_letter('mp')"
      ],
      "execution_count": 122,
      "outputs": [
        {
          "output_type": "execute_result",
          "data": {
            "text/plain": [
              "{'amp',\n",
              " 'ap',\n",
              " 'bmp',\n",
              " 'bp',\n",
              " 'cmp',\n",
              " 'cp',\n",
              " 'dmp',\n",
              " 'dp',\n",
              " 'emp',\n",
              " 'ep',\n",
              " 'fmp',\n",
              " 'fp',\n",
              " 'gmp',\n",
              " 'gp',\n",
              " 'hmp',\n",
              " 'hp',\n",
              " 'imp',\n",
              " 'ip',\n",
              " 'jmp',\n",
              " 'jp',\n",
              " 'kmp',\n",
              " 'kp',\n",
              " 'lmp',\n",
              " 'lp',\n",
              " 'm',\n",
              " 'ma',\n",
              " 'map',\n",
              " 'mb',\n",
              " 'mbp',\n",
              " 'mc',\n",
              " 'mcp',\n",
              " 'md',\n",
              " 'mdp',\n",
              " 'me',\n",
              " 'mep',\n",
              " 'mf',\n",
              " 'mfp',\n",
              " 'mg',\n",
              " 'mgp',\n",
              " 'mh',\n",
              " 'mhp',\n",
              " 'mi',\n",
              " 'mip',\n",
              " 'mj',\n",
              " 'mjp',\n",
              " 'mk',\n",
              " 'mkp',\n",
              " 'ml',\n",
              " 'mlp',\n",
              " 'mm',\n",
              " 'mmp',\n",
              " 'mn',\n",
              " 'mnp',\n",
              " 'mo',\n",
              " 'mop',\n",
              " 'mp',\n",
              " 'mpa',\n",
              " 'mpb',\n",
              " 'mpc',\n",
              " 'mpd',\n",
              " 'mpe',\n",
              " 'mpf',\n",
              " 'mpg',\n",
              " 'mph',\n",
              " 'mpi',\n",
              " 'mpj',\n",
              " 'mpk',\n",
              " 'mpl',\n",
              " 'mpm',\n",
              " 'mpn',\n",
              " 'mpo',\n",
              " 'mpp',\n",
              " 'mpq',\n",
              " 'mpr',\n",
              " 'mps',\n",
              " 'mpt',\n",
              " 'mpu',\n",
              " 'mpv',\n",
              " 'mpw',\n",
              " 'mpx',\n",
              " 'mpy',\n",
              " 'mpz',\n",
              " 'mq',\n",
              " 'mqp',\n",
              " 'mr',\n",
              " 'mrp',\n",
              " 'ms',\n",
              " 'msp',\n",
              " 'mt',\n",
              " 'mtp',\n",
              " 'mu',\n",
              " 'mup',\n",
              " 'mv',\n",
              " 'mvp',\n",
              " 'mw',\n",
              " 'mwp',\n",
              " 'mx',\n",
              " 'mxp',\n",
              " 'my',\n",
              " 'myp',\n",
              " 'mz',\n",
              " 'mzp',\n",
              " 'nmp',\n",
              " 'np',\n",
              " 'omp',\n",
              " 'op',\n",
              " 'p',\n",
              " 'pmp',\n",
              " 'pp',\n",
              " 'qmp',\n",
              " 'qp',\n",
              " 'rmp',\n",
              " 'rp',\n",
              " 'smp',\n",
              " 'sp',\n",
              " 'tmp',\n",
              " 'tp',\n",
              " 'ump',\n",
              " 'up',\n",
              " 'vmp',\n",
              " 'vp',\n",
              " 'wmp',\n",
              " 'wp',\n",
              " 'xmp',\n",
              " 'xp',\n",
              " 'ymp',\n",
              " 'yp',\n",
              " 'zmp',\n",
              " 'zp'}"
            ]
          },
          "metadata": {
            "tags": []
          },
          "execution_count": 122
        }
      ]
    },
    {
      "cell_type": "markdown",
      "metadata": {
        "id": "N4R0LUEiXjhd",
        "colab_type": "text"
      },
      "source": [
        "# **Step 2: Edit 2 letter**"
      ]
    },
    {
      "cell_type": "code",
      "metadata": {
        "id": "L0FzhBytXNIx",
        "colab_type": "code",
        "colab": {}
      },
      "source": [
        "def edit_two_letters(word):    \n",
        "    edit_two_set = set()\n",
        "    \n",
        "    edit_one = edit_one_letter(word)\n",
        "    for w in edit_one:\n",
        "        if w:\n",
        "            edit_two = edit_one_letter(w)\n",
        "            edit_two_set.update(edit_two)\n",
        "\n",
        "    \n",
        "    return edit_two_set"
      ],
      "execution_count": 123,
      "outputs": []
    },
    {
      "cell_type": "code",
      "metadata": {
        "id": "DvvvNmd3X16j",
        "colab_type": "code",
        "colab": {
          "base_uri": "https://localhost:8080/",
          "height": 34
        },
        "outputId": "319b8b19-0583-4b6e-c108-b0faa1e4cf6e"
      },
      "source": [
        "edit = edit_two_letters(\"a\")\n",
        "print(sorted(list(edit))[:10])"
      ],
      "execution_count": 127,
      "outputs": [
        {
          "output_type": "stream",
          "text": [
            "['', 'a', 'aa', 'aaa', 'aab', 'aac', 'aad', 'aae', 'aaf', 'aag']\n"
          ],
          "name": "stdout"
        }
      ]
    },
    {
      "cell_type": "markdown",
      "metadata": {
        "id": "Qe7W75S9Ya73",
        "colab_type": "text"
      },
      "source": [
        "# **Part 4: suggest spelling suggestions**"
      ]
    },
    {
      "cell_type": "code",
      "metadata": {
        "id": "tY9LGxp2X71i",
        "colab_type": "code",
        "colab": {}
      },
      "source": [
        "def get_corrections(word, probs, vocab):\n",
        "    \n",
        "    suggestions = []\n",
        "    n_best = []\n",
        "    \n",
        "    suggestions = list((word in vocab and word) or edit_one_letter(word).intersection(vocab) or edit_two_letters(word).intersection(vocab))\n",
        "    n_best = [[s,probs[s]] for s in list(reversed(suggestions))]\n",
        "    \n",
        "    \n",
        "\n",
        "    return n_best"
      ],
      "execution_count": 128,
      "outputs": []
    },
    {
      "cell_type": "code",
      "metadata": {
        "id": "6ZyPIVWtYwht",
        "colab_type": "code",
        "colab": {
          "base_uri": "https://localhost:8080/",
          "height": 34
        },
        "outputId": "71f3dc34-c6ac-4491-e839-5eb3482f770d"
      },
      "source": [
        "my_word = 'dys' \n",
        "get_corrections(my_word, probs, vocab)"
      ],
      "execution_count": 129,
      "outputs": [
        {
          "output_type": "execute_result",
          "data": {
            "text/plain": [
              "[['days', 0.0004103405826836274], ['dye', 1.865184466743761e-05]]"
            ]
          },
          "metadata": {
            "tags": []
          },
          "execution_count": 129
        }
      ]
    },
    {
      "cell_type": "markdown",
      "metadata": {
        "id": "GNES-7xvZDrk",
        "colab_type": "text"
      },
      "source": [
        "# **Part 4: Minimum Edit Distance**\n",
        "\n",
        "Minimum cost to edit a word\n",
        "# **Step 1: Dynnamic Programming**"
      ]
    },
    {
      "cell_type": "code",
      "metadata": {
        "id": "tlkO2KO9Y41p",
        "colab_type": "code",
        "colab": {}
      },
      "source": [
        "def min_edit_distance(source, target, ins_cost = 1, del_cost = 1, rep_cost = 2):\n",
        "   \n",
        "    # use deletion and insert cost as  1\n",
        "    m = len(source) \n",
        "    n = len(target) \n",
        "    #initialize cost matrix with zeros and dimensions (m+1,n+1) \n",
        "    D = np.zeros((m+1, n+1), dtype=int) \n",
        "    \n",
        "    # Fill in column 0, from row 1 to row m, both inclusive\n",
        "    for row in range(1,m+1): # Replace None with the proper range\n",
        "        D[row,0] = D[row-1,0] + del_cost\n",
        "        \n",
        "    # Fill in row 0, for all columns from 1 to n, both inclusive\n",
        "    for col in range(1, n+1): # Replace None with the proper range\n",
        "        D[0,col] = D[0,col-1] + ins_cost\n",
        "        \n",
        "    # Loop through row 1 to row m, both inclusive\n",
        "    for row in range(1,m+1): \n",
        "        \n",
        "        # Loop through column 1 to column n, both inclusive\n",
        "        for col in range(1,n+1):\n",
        "            \n",
        "            # Intialize r_cost to the 'replace' cost that is passed into this function\n",
        "            r_cost = rep_cost\n",
        "            \n",
        "            # Check to see if source character at the previous row\n",
        "            # matches the target character at the previous column, \n",
        "            if source[row-1] == target[col-1]:\n",
        "                # Update the replacement cost to 0 if source and target are the same\n",
        "                r_cost = 0\n",
        "                \n",
        "            # Update the cost at row, col based on previous entries in the cost matrix\n",
        "            # Refer to the equation calculate for D[i,j] (the minimum of three calculated costs)\n",
        "            D[row,col] = min([D[row-1,col]+del_cost, D[row,col-1]+ins_cost, D[row-1,col-1]+r_cost])\n",
        "          \n",
        "    # Set the minimum edit distance with the cost found at row m, column n\n",
        "    med = D[m,n]\n",
        "    \n",
        "    return D, med"
      ],
      "execution_count": 130,
      "outputs": []
    },
    {
      "cell_type": "code",
      "metadata": {
        "id": "3LDyRoJRZ28l",
        "colab_type": "code",
        "colab": {
          "base_uri": "https://localhost:8080/",
          "height": 158
        },
        "outputId": "d3eb2440-cb96-441c-9e90-562def1ee707"
      },
      "source": [
        "source =  'play'\n",
        "target = 'stay'\n",
        "matrix, min_edits = min_edit_distance(source, target)\n",
        "print(\"minimum edits: \",min_edits, \"\\n\")\n",
        "idx = list('#' + source)\n",
        "cols = list('#' + target)\n",
        "df = pd.DataFrame(matrix, index=idx, columns= cols)\n",
        "print(df)"
      ],
      "execution_count": 131,
      "outputs": [
        {
          "output_type": "stream",
          "text": [
            "minimum edits:  4 \n",
            "\n",
            "   #  s  t  a  y\n",
            "#  0  1  2  3  4\n",
            "p  1  2  3  4  5\n",
            "l  2  3  4  5  6\n",
            "a  3  4  5  4  5\n",
            "y  4  5  6  5  4\n"
          ],
          "name": "stdout"
        }
      ]
    },
    {
      "cell_type": "code",
      "metadata": {
        "id": "HA0E8vujZ50s",
        "colab_type": "code",
        "colab": {}
      },
      "source": [
        ""
      ],
      "execution_count": null,
      "outputs": []
    }
  ]
}